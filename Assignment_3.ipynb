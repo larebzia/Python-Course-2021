{
  "nbformat": 4,
  "nbformat_minor": 0,
  "metadata": {
    "colab": {
      "name": "Assignment 3.ipynb",
      "provenance": [],
      "collapsed_sections": []
    },
    "kernelspec": {
      "name": "python3",
      "display_name": "Python 3"
    },
    "language_info": {
      "name": "python"
    }
  },
  "cells": [
    {
      "cell_type": "code",
      "metadata": {
        "colab": {
          "base_uri": "https://localhost:8080/"
        },
        "id": "h3wrp2xdZZae",
        "outputId": "403eccdf-8d11-46e2-d937-036ff639aa4a"
      },
      "source": [
        "# 1. Write a Python program to print the following string in a specific format (see the output).\n",
        "\n",
        "poem = '''\n",
        "Twinkle, twinkle, little star,\n",
        "      How I wonder what you are!\n",
        "            Up above the world so high,\n",
        "            Like a diamond in the sky.\n",
        "Twinkle, twinkle, little star,\n",
        "      How I wonder what you are\n",
        "'''\n",
        "print(poem)"
      ],
      "execution_count": 1,
      "outputs": [
        {
          "output_type": "stream",
          "name": "stdout",
          "text": [
            "\n",
            "Twinkle, twinkle, little star,\n",
            "      How I wonder what you are!\n",
            "            Up above the world so high,\n",
            "            Like a diamond in the sky.\n",
            "Twinkle, twinkle, little star,\n",
            "      How I wonder what you are\n",
            "\n"
          ]
        }
      ]
    },
    {
      "cell_type": "code",
      "metadata": {
        "colab": {
          "base_uri": "https://localhost:8080/"
        },
        "id": "fMdSkVrqaSgv",
        "outputId": "07ae86cc-50f1-46e1-86de-05e205a70670"
      },
      "source": [
        "# 2. Write a Python program to get the Python version you are using\n",
        "\n",
        "import sys\n",
        "print(\"Python version\", sys.version)"
      ],
      "execution_count": 2,
      "outputs": [
        {
          "output_type": "stream",
          "name": "stdout",
          "text": [
            "Python version 3.7.12 (default, Sep 10 2021, 00:21:48) \n",
            "[GCC 7.5.0]\n"
          ]
        }
      ]
    },
    {
      "cell_type": "code",
      "metadata": {
        "colab": {
          "base_uri": "https://localhost:8080/"
        },
        "id": "rUxwKjcjasb0",
        "outputId": "1981e8ff-b5ae-4f96-9052-d8d4671b15b0"
      },
      "source": [
        "# 3. Write a Python program to display the current date and time.\n",
        "\n",
        "import datetime\n",
        "now = datetime.datetime.now()\n",
        "print (\"Current date and time : \")\n",
        "print (now.strftime(\"%Y-%m-%d %H:%M:%S\"))"
      ],
      "execution_count": 3,
      "outputs": [
        {
          "output_type": "stream",
          "name": "stdout",
          "text": [
            "Current date and time : \n",
            "2021-10-24 08:30:37\n"
          ]
        }
      ]
    },
    {
      "cell_type": "code",
      "metadata": {
        "colab": {
          "base_uri": "https://localhost:8080/"
        },
        "id": "EhR79eX3bEon",
        "outputId": "2868ccc5-6646-4cfe-bc18-987cc641c5e5"
      },
      "source": [
        "# 4. Write a Python program which accepts the radius of a circle from the user and compute the area.\n",
        "\n",
        "radius = int(input(\"Enter Radius of Circle\"))\n",
        "area_of_circle = 3.142 * radius**2\n",
        "print(\"Area of Circle: \", area_of_circle)"
      ],
      "execution_count": 5,
      "outputs": [
        {
          "output_type": "stream",
          "name": "stdout",
          "text": [
            "Enter Radius of Circle5\n",
            "Area of Circle:  78.55\n"
          ]
        }
      ]
    },
    {
      "cell_type": "code",
      "metadata": {
        "colab": {
          "base_uri": "https://localhost:8080/"
        },
        "id": "qKaMz719b6dH",
        "outputId": "aa1ea167-93b7-4e7d-e133-783dc593aab6"
      },
      "source": [
        "# 5. Write a Python program which accepts the user's first and last name and print them in reverse order with a space between them.\n",
        "\n",
        "first_name = input(\"Enter your first name \")\n",
        "last_name = input(\"Enter your last name \")\n",
        "print(\"Your Reverse Full Name: {0} {1}\".format(last_name, first_name))"
      ],
      "execution_count": 9,
      "outputs": [
        {
          "output_type": "stream",
          "name": "stdout",
          "text": [
            "Enter your first name Usama\n",
            "Enter your last name Zia\n",
            "Your Reverse Full Name: Zia Usama\n"
          ]
        }
      ]
    },
    {
      "cell_type": "code",
      "metadata": {
        "colab": {
          "base_uri": "https://localhost:8080/"
        },
        "id": "l9ORg2_8c_vo",
        "outputId": "c66bfb3a-5ab3-4674-d990-a58547f35fe7"
      },
      "source": [
        "# 6. Write a python program which takes two inputs from user and print them addition\n",
        "\n",
        "first_num = int(input(\"Enter your first number\"))\n",
        "second_num = int(input(\"Enter your second number\"))\n",
        "print(\"The addition of {0} + {1} is {2}\".format(first_num, second_num, first_num + second_num))"
      ],
      "execution_count": 10,
      "outputs": [
        {
          "output_type": "stream",
          "name": "stdout",
          "text": [
            "Enter your first number4\n",
            "Enter your second number6\n",
            "The addition of 4 + 6 is 10\n"
          ]
        }
      ]
    },
    {
      "cell_type": "code",
      "metadata": {
        "colab": {
          "base_uri": "https://localhost:8080/"
        },
        "id": "mJCq_3p7eIIf",
        "outputId": "ab6c32ad-83b5-4bd7-8887-5ebdee919b7e"
      },
      "source": [
        "# 7. Write a program which takes 5 inputs from user for different subject’s marks, total it and generate mark sheet using grades ?\n",
        "\n",
        "print(\"Enter marks of 5 subjest for marks Sheet\")\n",
        "a = int(input(\"Enter Marks for Subject 1: \"))\n",
        "b = int(input(\"Enter Marks for Subject 2: \"))\n",
        "c = int(input(\"Enter Marks for Subject 3: \"))\n",
        "d = int(input(\"Enter Marks for Subject 4: \"))\n",
        "e = int(input(\"Enter Marks for Subject 5: \"))\n",
        "per = (a+b+c+d+e)/5\n",
        "per = int(per)\n",
        "\n",
        "if per >= 0 and per <33:\n",
        "    print(\"Fail\")\n",
        "elif per >= 33 and per<40:\n",
        "    print(\"Congratulations you got Grade E\")\n",
        "elif per >= 40 and per<50:\n",
        "    print(\"Congratulations you got Grade D\")\n",
        "elif per>=50 and per<60:\n",
        "    print(\"Congratulations you got Grade C\")\n",
        "elif per>=60 and per<70:\n",
        "    print(\"Congratulations you got Grade B\")\n",
        "elif per>=70 and per<80:\n",
        "    print(\"Congratulations you got Grade A\")\n",
        "elif per>=80 and per<=100:\n",
        "    print(\"Congratulations you got Grade A+\")\n",
        "else:\n",
        "    print(\"Not valid\")"
      ],
      "execution_count": 11,
      "outputs": [
        {
          "output_type": "stream",
          "name": "stdout",
          "text": [
            "Enter marks of 5 subjest for marks Sheet\n",
            "Enter Marks for Subject 1: 85\n",
            "Enter Marks for Subject 2: 88\n",
            "Enter Marks for Subject 3: 91\n",
            "Enter Marks for Subject 4: 82\n",
            "Enter Marks for Subject 5: 93\n",
            "Congratulations you got Grade A+\n"
          ]
        }
      ]
    },
    {
      "cell_type": "code",
      "metadata": {
        "colab": {
          "base_uri": "https://localhost:8080/"
        },
        "id": "6LGRNRR4ef1W",
        "outputId": "4a02a733-94ea-41a3-8523-e7ffe4664e6f"
      },
      "source": [
        "# 8. Write a program which take input from user and identify that the given number is even or odd?\n",
        "\n",
        "num = int(input(\"Enter number to check even or odd\"))\n",
        "if num % 2 == 0:\n",
        "  print('{0} is Even'.format(num))\n",
        "else:\n",
        "  print('{0} is Odd'.format(num))"
      ],
      "execution_count": 13,
      "outputs": [
        {
          "output_type": "stream",
          "name": "stdout",
          "text": [
            "Enter number to check even or odd5\n",
            "5 is Odd\n"
          ]
        }
      ]
    },
    {
      "cell_type": "code",
      "metadata": {
        "colab": {
          "base_uri": "https://localhost:8080/"
        },
        "id": "RE6OeBx0fObz",
        "outputId": "c14abe9d-997f-44b3-c7ea-35a22cc798a9"
      },
      "source": [
        "# 9. Write a program which print the length of the list?\n",
        "\n",
        "list = [1, 1, 2, 3, 5, 8, 13, 21, 34, 55, 89]\n",
        "print('The lenght of string is: ', len(list))"
      ],
      "execution_count": 15,
      "outputs": [
        {
          "output_type": "stream",
          "name": "stdout",
          "text": [
            "The lenght of string is:  11\n"
          ]
        }
      ]
    },
    {
      "cell_type": "code",
      "metadata": {
        "colab": {
          "base_uri": "https://localhost:8080/"
        },
        "id": "YX78uC0mfjVf",
        "outputId": "7b26c3fd-6433-449d-ff96-dcd188d53774"
      },
      "source": [
        "# 10.Write a Python program to sum all the numeric items in a list?\n",
        "\n",
        "list = [1, 1, 2, 3, 5, 8, 13, 21, 34, 55, 89]\n",
        "sum = 0\n",
        "\n",
        "for i in list:\n",
        "  sum += i\n",
        "print('The sum of list is: ',sum)  "
      ],
      "execution_count": 16,
      "outputs": [
        {
          "output_type": "stream",
          "name": "stdout",
          "text": [
            "The sum of list is:  232\n"
          ]
        }
      ]
    },
    {
      "cell_type": "code",
      "metadata": {
        "colab": {
          "base_uri": "https://localhost:8080/"
        },
        "id": "b3cZod5xgO5o",
        "outputId": "5c4c672c-a737-4c94-9439-df61b9bf1f18"
      },
      "source": [
        "# 11.Write a Python program to get the largest number from a numeric list.\n",
        "\n",
        "list = [1, 1, 2, 3, 5, 8, 13, 21, 134, 55, 89]\n",
        "largest_number = list[0]\n",
        "\n",
        "for i in list:\n",
        "  if largest_number < i:\n",
        "    largest_number = i\n",
        "\n",
        "print('The largest in list is: ', largest_number)    "
      ],
      "execution_count": 18,
      "outputs": [
        {
          "output_type": "stream",
          "name": "stdout",
          "text": [
            "The largest in list is:  134\n"
          ]
        }
      ]
    },
    {
      "cell_type": "code",
      "metadata": {
        "colab": {
          "base_uri": "https://localhost:8080/"
        },
        "id": "ufw8zZo5g0ZR",
        "outputId": "541df091-a3b3-4bb4-d00f-0bc8c8dffdee"
      },
      "source": [
        "'''12. Take a list, say for example this one: a = [1, 1, 2, 3, 5, 8, 13, 21, 34, 55, 89]\n",
        "Write a program that prints out all the elements of the list that are less than 5.'''\n",
        "\n",
        "list = [1, 1, 2, 3, 5, 8, 13, 21, 134, 55, 89]\n",
        "\n",
        "for i in list:\n",
        "  if i < 5:\n",
        "    print(i)"
      ],
      "execution_count": 19,
      "outputs": [
        {
          "output_type": "stream",
          "name": "stdout",
          "text": [
            "1\n",
            "1\n",
            "2\n",
            "3\n"
          ]
        }
      ]
    },
    {
      "cell_type": "code",
      "metadata": {
        "id": "oC3xZY_phMdR"
      },
      "source": [
        ""
      ],
      "execution_count": null,
      "outputs": []
    }
  ]
}